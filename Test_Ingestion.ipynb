{
  "nbformat": 4,
  "nbformat_minor": 0,
  "metadata": {
    "colab": {
      "provenance": []
    },
    "kernelspec": {
      "name": "python3",
      "display_name": "Python 3"
    },
    "language_info": {
      "name": "python"
    },
    "accelerator": "GPU",
    "gpuClass": "standard"
  },
  "cells": [
    {
      "cell_type": "code",
      "source": [
        "!pip install kaggle"
      ],
      "metadata": {
        "colab": {
          "base_uri": "https://localhost:8080/"
        },
        "id": "qIWhn1OFyI4C",
        "outputId": "8a3daa8e-5271-4fb8-c6f9-71a1a08694d9"
      },
      "execution_count": 16,
      "outputs": [
        {
          "output_type": "stream",
          "name": "stdout",
          "text": [
            "Looking in indexes: https://pypi.org/simple, https://us-python.pkg.dev/colab-wheels/public/simple/\n",
            "Requirement already satisfied: kaggle in /usr/local/lib/python3.8/dist-packages (1.5.12)\n",
            "Requirement already satisfied: python-slugify in /usr/local/lib/python3.8/dist-packages (from kaggle) (7.0.0)\n",
            "Requirement already satisfied: python-dateutil in /usr/local/lib/python3.8/dist-packages (from kaggle) (2.8.2)\n",
            "Requirement already satisfied: requests in /usr/local/lib/python3.8/dist-packages (from kaggle) (2.23.0)\n",
            "Requirement already satisfied: urllib3 in /usr/local/lib/python3.8/dist-packages (from kaggle) (1.24.3)\n",
            "Requirement already satisfied: tqdm in /usr/local/lib/python3.8/dist-packages (from kaggle) (4.64.1)\n",
            "Requirement already satisfied: six>=1.10 in /usr/local/lib/python3.8/dist-packages (from kaggle) (1.15.0)\n",
            "Requirement already satisfied: certifi in /usr/local/lib/python3.8/dist-packages (from kaggle) (2022.9.24)\n",
            "Requirement already satisfied: text-unidecode>=1.3 in /usr/local/lib/python3.8/dist-packages (from python-slugify->kaggle) (1.3)\n",
            "Requirement already satisfied: idna<3,>=2.5 in /usr/local/lib/python3.8/dist-packages (from requests->kaggle) (2.10)\n",
            "Requirement already satisfied: chardet<4,>=3.0.2 in /usr/local/lib/python3.8/dist-packages (from requests->kaggle) (3.0.4)\n"
          ]
        }
      ]
    },
    {
      "cell_type": "code",
      "execution_count": 2,
      "metadata": {
        "colab": {
          "base_uri": "https://localhost:8080/"
        },
        "id": "VgU9i6eNsBtw",
        "outputId": "b6ab8b69-98c6-45c7-fce0-a5e700721bf6"
      },
      "outputs": [
        {
          "output_type": "stream",
          "name": "stdout",
          "text": [
            "Looking in indexes: https://pypi.org/simple, https://us-python.pkg.dev/colab-wheels/public/simple/\n",
            "Collecting opendatasets\n",
            "  Downloading opendatasets-0.1.22-py3-none-any.whl (15 kB)\n",
            "Requirement already satisfied: tqdm in /usr/local/lib/python3.8/dist-packages (from opendatasets) (4.64.1)\n",
            "Requirement already satisfied: click in /usr/local/lib/python3.8/dist-packages (from opendatasets) (7.1.2)\n",
            "Requirement already satisfied: kaggle in /usr/local/lib/python3.8/dist-packages (from opendatasets) (1.5.12)\n",
            "Requirement already satisfied: certifi in /usr/local/lib/python3.8/dist-packages (from kaggle->opendatasets) (2022.9.24)\n",
            "Requirement already satisfied: urllib3 in /usr/local/lib/python3.8/dist-packages (from kaggle->opendatasets) (1.24.3)\n",
            "Requirement already satisfied: python-slugify in /usr/local/lib/python3.8/dist-packages (from kaggle->opendatasets) (7.0.0)\n",
            "Requirement already satisfied: requests in /usr/local/lib/python3.8/dist-packages (from kaggle->opendatasets) (2.23.0)\n",
            "Requirement already satisfied: python-dateutil in /usr/local/lib/python3.8/dist-packages (from kaggle->opendatasets) (2.8.2)\n",
            "Requirement already satisfied: six>=1.10 in /usr/local/lib/python3.8/dist-packages (from kaggle->opendatasets) (1.15.0)\n",
            "Requirement already satisfied: text-unidecode>=1.3 in /usr/local/lib/python3.8/dist-packages (from python-slugify->kaggle->opendatasets) (1.3)\n",
            "Requirement already satisfied: chardet<4,>=3.0.2 in /usr/local/lib/python3.8/dist-packages (from requests->kaggle->opendatasets) (3.0.4)\n",
            "Requirement already satisfied: idna<3,>=2.5 in /usr/local/lib/python3.8/dist-packages (from requests->kaggle->opendatasets) (2.10)\n",
            "Installing collected packages: opendatasets\n",
            "Successfully installed opendatasets-0.1.22\n"
          ]
        }
      ],
      "source": [
        "!pip install opendatasets\n",
        "     "
      ]
    },
    {
      "cell_type": "code",
      "source": [
        "import opendatasets as od\n",
        "import pandas as pd\n",
        "import numpy as np\n",
        "import matplotlib.pyplot as plt\n",
        "import time\n",
        "import gc\n",
        "import re\n",
        "import gzip\n",
        "import time\n",
        "import warnings\n",
        "from dask import dataframe as dd\n"
      ],
      "metadata": {
        "id": "seafceGjtWN6"
      },
      "execution_count": null,
      "outputs": []
    },
    {
      "cell_type": "code",
      "source": [
        "from dask import dataframe as dd\n",
        "import time\n",
        "st = time.time()\n",
        "dask_df = dd.read_csv('/content/kill_match_stats_final_0.csv')\n",
        "et = time.time()\n",
        "tt = et - st\n",
        "print('Dask execution time:', tt, 'seconds')"
      ],
      "metadata": {
        "colab": {
          "base_uri": "https://localhost:8080/"
        },
        "id": "a5PhwSJrxFGL",
        "outputId": "c3badf38-d0cb-4a13-f35e-61d02287ef69"
      },
      "execution_count": 19,
      "outputs": [
        {
          "output_type": "stream",
          "name": "stdout",
          "text": [
            "Dask execution time: 0.04918694496154785 seconds\n"
          ]
        }
      ]
    },
    {
      "cell_type": "code",
      "source": [
        "from dask import dataframe as dd\n",
        "import time\n",
        "st = time.time()\n",
        "dask_df = dd.read_csv('/content/kill_match_stats_final_0.csv')\n",
        "et = time.time()\n",
        "tt = et - st\n",
        "print('Dask execution time:', tt, 'seconds')\n"
      ],
      "metadata": {
        "colab": {
          "base_uri": "https://localhost:8080/"
        },
        "id": "PWCfA8B60tcL",
        "outputId": "4c2a23ab-4d1b-45a3-b1c6-163ab66cd71f"
      },
      "execution_count": 23,
      "outputs": [
        {
          "output_type": "stream",
          "name": "stdout",
          "text": [
            "Dask execution time: 0.012042045593261719 seconds\n"
          ]
        }
      ]
    },
    {
      "cell_type": "code",
      "source": [
        "import pandas as pd\n",
        "df = pd.read_csv('/content/kill_match_stats_final_0.csv', delimiter = ',')\n",
        "df.head(5)\n"
      ],
      "metadata": {
        "colab": {
          "base_uri": "https://localhost:8080/",
          "height": 357
        },
        "id": "om1R_fPm1mw6",
        "outputId": "87c21dd9-480a-4708-eddf-a7500d481000"
      },
      "execution_count": 25,
      "outputs": [
        {
          "output_type": "execute_result",
          "data": {
            "text/plain": [
              "      killed_by       killer_name  killer_placement  killer_position_x  \\\n",
              "0       Grenade   KrazyPortuguese               5.0          657725.10   \n",
              "1        SCAR-L  nide2Bxiaojiejie              31.0           93091.37   \n",
              "2          S686          Ascholes              43.0          366921.40   \n",
              "3  Down and Out        Weirdo7777               9.0          472014.20   \n",
              "4          M416         Solayuki1               9.0          473357.80   \n",
              "\n",
              "   killer_position_y      map  \\\n",
              "0           146275.2  MIRAMAR   \n",
              "1           722236.4  MIRAMAR   \n",
              "2           421623.9  MIRAMAR   \n",
              "3           313274.8  MIRAMAR   \n",
              "4           318340.5  MIRAMAR   \n",
              "\n",
              "                                            match_id    time      victim_name  \\\n",
              "0  2U4GBNA0YmnLSqvEycnTjo-KT000vfUnhSA2vfVhVPe1QB...   823.0  KrazyPortuguese   \n",
              "1  2U4GBNA0YmnLSqvEycnTjo-KT000vfUnhSA2vfVhVPe1QB...   194.0      X3evolution   \n",
              "2  2U4GBNA0YmnLSqvEycnTjo-KT000vfUnhSA2vfVhVPe1QB...   103.0          CtrlZee   \n",
              "3  2U4GBNA0YmnLSqvEycnTjo-KT000vfUnhSA2vfVhVPe1QB...  1018.0        BlackDpre   \n",
              "4  2U4GBNA0YmnLSqvEycnTjo-KT000vfUnhSA2vfVhVPe1QB...  1018.0            Vjolt   \n",
              "\n",
              "   victim_placement  victim_position_x  victim_position_y  \n",
              "0               5.0          657725.10           146275.2  \n",
              "1              33.0           92238.68           723375.1  \n",
              "2              46.0          367304.50           421216.1  \n",
              "3              13.0          476645.90           316758.4  \n",
              "4              13.0          473588.50           318418.8  "
            ],
            "text/html": [
              "\n",
              "  <div id=\"df-80e8e707-bb32-453d-b390-40d9ad08bd0c\">\n",
              "    <div class=\"colab-df-container\">\n",
              "      <div>\n",
              "<style scoped>\n",
              "    .dataframe tbody tr th:only-of-type {\n",
              "        vertical-align: middle;\n",
              "    }\n",
              "\n",
              "    .dataframe tbody tr th {\n",
              "        vertical-align: top;\n",
              "    }\n",
              "\n",
              "    .dataframe thead th {\n",
              "        text-align: right;\n",
              "    }\n",
              "</style>\n",
              "<table border=\"1\" class=\"dataframe\">\n",
              "  <thead>\n",
              "    <tr style=\"text-align: right;\">\n",
              "      <th></th>\n",
              "      <th>killed_by</th>\n",
              "      <th>killer_name</th>\n",
              "      <th>killer_placement</th>\n",
              "      <th>killer_position_x</th>\n",
              "      <th>killer_position_y</th>\n",
              "      <th>map</th>\n",
              "      <th>match_id</th>\n",
              "      <th>time</th>\n",
              "      <th>victim_name</th>\n",
              "      <th>victim_placement</th>\n",
              "      <th>victim_position_x</th>\n",
              "      <th>victim_position_y</th>\n",
              "    </tr>\n",
              "  </thead>\n",
              "  <tbody>\n",
              "    <tr>\n",
              "      <th>0</th>\n",
              "      <td>Grenade</td>\n",
              "      <td>KrazyPortuguese</td>\n",
              "      <td>5.0</td>\n",
              "      <td>657725.10</td>\n",
              "      <td>146275.2</td>\n",
              "      <td>MIRAMAR</td>\n",
              "      <td>2U4GBNA0YmnLSqvEycnTjo-KT000vfUnhSA2vfVhVPe1QB...</td>\n",
              "      <td>823.0</td>\n",
              "      <td>KrazyPortuguese</td>\n",
              "      <td>5.0</td>\n",
              "      <td>657725.10</td>\n",
              "      <td>146275.2</td>\n",
              "    </tr>\n",
              "    <tr>\n",
              "      <th>1</th>\n",
              "      <td>SCAR-L</td>\n",
              "      <td>nide2Bxiaojiejie</td>\n",
              "      <td>31.0</td>\n",
              "      <td>93091.37</td>\n",
              "      <td>722236.4</td>\n",
              "      <td>MIRAMAR</td>\n",
              "      <td>2U4GBNA0YmnLSqvEycnTjo-KT000vfUnhSA2vfVhVPe1QB...</td>\n",
              "      <td>194.0</td>\n",
              "      <td>X3evolution</td>\n",
              "      <td>33.0</td>\n",
              "      <td>92238.68</td>\n",
              "      <td>723375.1</td>\n",
              "    </tr>\n",
              "    <tr>\n",
              "      <th>2</th>\n",
              "      <td>S686</td>\n",
              "      <td>Ascholes</td>\n",
              "      <td>43.0</td>\n",
              "      <td>366921.40</td>\n",
              "      <td>421623.9</td>\n",
              "      <td>MIRAMAR</td>\n",
              "      <td>2U4GBNA0YmnLSqvEycnTjo-KT000vfUnhSA2vfVhVPe1QB...</td>\n",
              "      <td>103.0</td>\n",
              "      <td>CtrlZee</td>\n",
              "      <td>46.0</td>\n",
              "      <td>367304.50</td>\n",
              "      <td>421216.1</td>\n",
              "    </tr>\n",
              "    <tr>\n",
              "      <th>3</th>\n",
              "      <td>Down and Out</td>\n",
              "      <td>Weirdo7777</td>\n",
              "      <td>9.0</td>\n",
              "      <td>472014.20</td>\n",
              "      <td>313274.8</td>\n",
              "      <td>MIRAMAR</td>\n",
              "      <td>2U4GBNA0YmnLSqvEycnTjo-KT000vfUnhSA2vfVhVPe1QB...</td>\n",
              "      <td>1018.0</td>\n",
              "      <td>BlackDpre</td>\n",
              "      <td>13.0</td>\n",
              "      <td>476645.90</td>\n",
              "      <td>316758.4</td>\n",
              "    </tr>\n",
              "    <tr>\n",
              "      <th>4</th>\n",
              "      <td>M416</td>\n",
              "      <td>Solayuki1</td>\n",
              "      <td>9.0</td>\n",
              "      <td>473357.80</td>\n",
              "      <td>318340.5</td>\n",
              "      <td>MIRAMAR</td>\n",
              "      <td>2U4GBNA0YmnLSqvEycnTjo-KT000vfUnhSA2vfVhVPe1QB...</td>\n",
              "      <td>1018.0</td>\n",
              "      <td>Vjolt</td>\n",
              "      <td>13.0</td>\n",
              "      <td>473588.50</td>\n",
              "      <td>318418.8</td>\n",
              "    </tr>\n",
              "  </tbody>\n",
              "</table>\n",
              "</div>\n",
              "      <button class=\"colab-df-convert\" onclick=\"convertToInteractive('df-80e8e707-bb32-453d-b390-40d9ad08bd0c')\"\n",
              "              title=\"Convert this dataframe to an interactive table.\"\n",
              "              style=\"display:none;\">\n",
              "        \n",
              "  <svg xmlns=\"http://www.w3.org/2000/svg\" height=\"24px\"viewBox=\"0 0 24 24\"\n",
              "       width=\"24px\">\n",
              "    <path d=\"M0 0h24v24H0V0z\" fill=\"none\"/>\n",
              "    <path d=\"M18.56 5.44l.94 2.06.94-2.06 2.06-.94-2.06-.94-.94-2.06-.94 2.06-2.06.94zm-11 1L8.5 8.5l.94-2.06 2.06-.94-2.06-.94L8.5 2.5l-.94 2.06-2.06.94zm10 10l.94 2.06.94-2.06 2.06-.94-2.06-.94-.94-2.06-.94 2.06-2.06.94z\"/><path d=\"M17.41 7.96l-1.37-1.37c-.4-.4-.92-.59-1.43-.59-.52 0-1.04.2-1.43.59L10.3 9.45l-7.72 7.72c-.78.78-.78 2.05 0 2.83L4 21.41c.39.39.9.59 1.41.59.51 0 1.02-.2 1.41-.59l7.78-7.78 2.81-2.81c.8-.78.8-2.07 0-2.86zM5.41 20L4 18.59l7.72-7.72 1.47 1.35L5.41 20z\"/>\n",
              "  </svg>\n",
              "      </button>\n",
              "      \n",
              "  <style>\n",
              "    .colab-df-container {\n",
              "      display:flex;\n",
              "      flex-wrap:wrap;\n",
              "      gap: 12px;\n",
              "    }\n",
              "\n",
              "    .colab-df-convert {\n",
              "      background-color: #E8F0FE;\n",
              "      border: none;\n",
              "      border-radius: 50%;\n",
              "      cursor: pointer;\n",
              "      display: none;\n",
              "      fill: #1967D2;\n",
              "      height: 32px;\n",
              "      padding: 0 0 0 0;\n",
              "      width: 32px;\n",
              "    }\n",
              "\n",
              "    .colab-df-convert:hover {\n",
              "      background-color: #E2EBFA;\n",
              "      box-shadow: 0px 1px 2px rgba(60, 64, 67, 0.3), 0px 1px 3px 1px rgba(60, 64, 67, 0.15);\n",
              "      fill: #174EA6;\n",
              "    }\n",
              "\n",
              "    [theme=dark] .colab-df-convert {\n",
              "      background-color: #3B4455;\n",
              "      fill: #D2E3FC;\n",
              "    }\n",
              "\n",
              "    [theme=dark] .colab-df-convert:hover {\n",
              "      background-color: #434B5C;\n",
              "      box-shadow: 0px 1px 3px 1px rgba(0, 0, 0, 0.15);\n",
              "      filter: drop-shadow(0px 1px 2px rgba(0, 0, 0, 0.3));\n",
              "      fill: #FFFFFF;\n",
              "    }\n",
              "  </style>\n",
              "\n",
              "      <script>\n",
              "        const buttonEl =\n",
              "          document.querySelector('#df-80e8e707-bb32-453d-b390-40d9ad08bd0c button.colab-df-convert');\n",
              "        buttonEl.style.display =\n",
              "          google.colab.kernel.accessAllowed ? 'block' : 'none';\n",
              "\n",
              "        async function convertToInteractive(key) {\n",
              "          const element = document.querySelector('#df-80e8e707-bb32-453d-b390-40d9ad08bd0c');\n",
              "          const dataTable =\n",
              "            await google.colab.kernel.invokeFunction('convertToInteractive',\n",
              "                                                     [key], {});\n",
              "          if (!dataTable) return;\n",
              "\n",
              "          const docLinkHtml = 'Like what you see? Visit the ' +\n",
              "            '<a target=\"_blank\" href=https://colab.research.google.com/notebooks/data_table.ipynb>data table notebook</a>'\n",
              "            + ' to learn more about interactive tables.';\n",
              "          element.innerHTML = '';\n",
              "          dataTable['output_type'] = 'display_data';\n",
              "          await google.colab.output.renderOutput(dataTable, element);\n",
              "          const docLink = document.createElement('div');\n",
              "          docLink.innerHTML = docLinkHtml;\n",
              "          element.appendChild(docLink);\n",
              "        }\n",
              "      </script>\n",
              "    </div>\n",
              "  </div>\n",
              "  "
            ]
          },
          "metadata": {},
          "execution_count": 25
        }
      ]
    },
    {
      "cell_type": "code",
      "source": [
        "# Remove White Spaces\n",
        "df.columns = df.columns.str.replace(' ', '_')\n",
        "\n",
        "# Remove Special Characters\n",
        "df.columns = df.columns.str.replace('[?, ~, -, +, $, ^, *, #, @, &]', '')\n",
        "\n",
        "# Inspect Columns\n",
        "df.columns\n"
      ],
      "metadata": {
        "colab": {
          "base_uri": "https://localhost:8080/"
        },
        "id": "DnIQQ44v16_y",
        "outputId": "0405889b-634d-4202-f7dc-a9d21dd8583d"
      },
      "execution_count": 26,
      "outputs": [
        {
          "output_type": "stream",
          "name": "stderr",
          "text": [
            "<ipython-input-26-2db37872da04>:5: FutureWarning: The default value of regex will change from True to False in a future version.\n",
            "  df.columns = df.columns.str.replace('[?, ~, -, +, $, ^, *, #, @, &]', '')\n"
          ]
        },
        {
          "output_type": "execute_result",
          "data": {
            "text/plain": [
              "Index(['killed_by', 'killer_name', 'killer_placement', 'killer_position_x',\n",
              "       'killer_position_y', 'map', 'match_id', 'time', 'victim_name',\n",
              "       'victim_placement', 'victim_position_x', 'victim_position_y'],\n",
              "      dtype='object')"
            ]
          },
          "metadata": {},
          "execution_count": 26
        }
      ]
    },
    {
      "cell_type": "code",
      "source": [
        "%%writefile testutility.py\n",
        "import logging\n",
        "import os\n",
        "import subprocess\n",
        "import yaml\n",
        "import pandas as pd\n",
        "import datetime \n",
        "import gc\n",
        "import re\n",
        "\n",
        "\n",
        "################\n",
        "# File Reading #\n",
        "################\n",
        "\n",
        "def read_config_file(filepath):\n",
        "    with open(filepath, 'r') as stream:\n",
        "        try:\n",
        "            return yaml.safe_load(stream)\n",
        "        except yaml.YAMLError as exc:\n",
        "            logging.error(exc)\n",
        "\n",
        "\n",
        "def replacer(string, char):\n",
        "    pattern = char + '{2,}'\n",
        "    string = re.sub(pattern, char, string) \n",
        "    return string\n",
        "\n",
        "def col_header_val(df,table_config):\n",
        "    '''\n",
        "    replace whitespaces in the column\n",
        "    and standardized column names\n",
        "    '''\n",
        "    df.columns = df.columns.str.lower()\n",
        "    df.columns = df.columns.str.replace('[^\\w]','_',regex=True)\n",
        "    df.columns = list(map(lambda x: x.strip('_'), list(df.columns)))\n",
        "    df.columns = list(map(lambda x: replacer(x,'_'), list(df.columns)))\n",
        "    expected_col = list(map(lambda x: x.lower(),  table_config['columns']))\n",
        "    expected_col.sort()\n",
        "    df.columns =list(map(lambda x: x.lower(), list(df.columns)))\n",
        "    df = df.reindex(sorted(df.columns), axis=1)\n",
        "    if len(df.columns) == len(expected_col) and list(expected_col)  == list(df.columns):\n",
        "        print(\"column name and column length validation passed\")\n",
        "        return 1\n",
        "    else:\n",
        "        print(\"column name and column length validation failed\")\n",
        "        mismatched_columns_file = list(set(df.columns).difference(expected_col))\n",
        "        print(\"Following File columns are not in the YAML file\",mismatched_columns_file)\n",
        "        missing_YAML_file = list(set(expected_col).difference(df.columns))\n",
        "        print(\"Following YAML columns are not in the file uploaded\",missing_YAML_file)\n",
        "        logging.info(f'df columns: {df.columns}')\n",
        "        logging.info(f'expected columns: {expected_col}')\n",
        "        return 0\n"
      ],
      "metadata": {
        "colab": {
          "base_uri": "https://localhost:8080/"
        },
        "id": "BwEjCfAX2Xjf",
        "outputId": "6fddd5f7-ff84-438d-de66-4bf80df4ed1d"
      },
      "execution_count": 2,
      "outputs": [
        {
          "output_type": "stream",
          "name": "stdout",
          "text": [
            "Writing testutility.py\n"
          ]
        }
      ]
    },
    {
      "cell_type": "code",
      "source": [
        "%%writefile file.yaml\n",
        "file_type: csv\n",
        "dataset_name: death\n",
        "file_name: kill_match_stats_final_0\n",
        "table_name: death \n",
        "inbound_delimiter: \",\"\n",
        "outbound_delimiter: \"|\"\n",
        "skip_leading_rows: 1\n",
        "columns: \n",
        "    - killed_by \n",
        "    - killer_name \n",
        "    - killer_placement \n",
        "    - killer_position\n",
        "    - killer_position_y\n",
        "    - map \n",
        "    - match_id \n",
        "    - time \n",
        "    - victim_name\n",
        "    - victim_placement \n",
        "    - victim_position_x \n",
        "    - victim_position_y\n",
        "    - dtype='object'\n",
        "     "
      ],
      "metadata": {
        "colab": {
          "base_uri": "https://localhost:8080/"
        },
        "id": "yJPRMStm2mhH",
        "outputId": "ba5b96e0-8439-4296-8739-5800b9425dbb"
      },
      "execution_count": 28,
      "outputs": [
        {
          "output_type": "stream",
          "name": "stdout",
          "text": [
            "Writing file.yaml\n"
          ]
        }
      ]
    },
    {
      "cell_type": "code",
      "source": [
        "# Read config file\n",
        "import utility as util\n",
        "config_data = util.read_config_file(\"file.yaml\")"
      ],
      "metadata": {
        "id": "ku8pMVK75tja"
      },
      "execution_count": null,
      "outputs": []
    },
    {
      "cell_type": "code",
      "source": [
        "import os\n",
        "\n",
        "print(os.getcwd())\n",
        "\n",
        "# Normal reading process of the file\n",
        "import pandas as pd\n",
        "#import dask.dataframe as dd\n",
        "\n",
        "#%% time\n",
        "import time\n",
        "start_time = time.time()\n",
        "\n",
        "df_sample = pd.read_csv(\"/content/kill_match_stats_final_0.csv\",delimiter=',') \n",
        "#df_sample = pd.read_csv(\"/content/kill_match_stats_final_0.csv\",delimiter=',') \n",
        "\n",
        "print(\"--- %s seconds ---\" % (time.time() - start_time))\n",
        "\n",
        "df_sample.head()\n",
        "df_sample.info()"
      ],
      "metadata": {
        "colab": {
          "base_uri": "https://localhost:8080/"
        },
        "id": "KD9J3U_761V_",
        "outputId": "aa84c2c5-6415-4016-c40c-add511bc58f6"
      },
      "execution_count": 34,
      "outputs": [
        {
          "output_type": "stream",
          "name": "stdout",
          "text": [
            "/content\n",
            "--- 2.9665474891662598 seconds ---\n",
            "<class 'pandas.core.frame.DataFrame'>\n",
            "RangeIndex: 1609634 entries, 0 to 1609633\n",
            "Data columns (total 12 columns):\n",
            " #   Column             Non-Null Count    Dtype  \n",
            "---  ------             --------------    -----  \n",
            " 0   killed_by          1609634 non-null  object \n",
            " 1   killer_name        1497577 non-null  object \n",
            " 2   killer_placement   1497577 non-null  float64\n",
            " 3   killer_position_x  1497577 non-null  float64\n",
            " 4   killer_position_y  1497577 non-null  float64\n",
            " 5   map                1592430 non-null  object \n",
            " 6   match_id           1609634 non-null  object \n",
            " 7   time               1609634 non-null  int64  \n",
            " 8   victim_name        1609634 non-null  object \n",
            " 9   victim_placement   1578914 non-null  float64\n",
            " 10  victim_position_x  1609634 non-null  float64\n",
            " 11  victim_position_y  1609633 non-null  float64\n",
            "dtypes: float64(6), int64(1), object(5)\n",
            "memory usage: 147.4+ MB\n"
          ]
        }
      ]
    },
    {
      "cell_type": "code",
      "source": [
        "import dask.dataframe as dd\n",
        "\n",
        "#%%time\n",
        "import time\n",
        "start_time = time.time()\n",
        "\n",
        "#df_sample = dd.read_csv(\"/content/kill_match_stats_final_0.csv\",delimiter=',')\n",
        "\n",
        "df_sample = dd.read_csv(\"/content/kill_match_stats_final_0.csv\",delimiter=',', dtype={'bed': 'object','cabin': 'object'})\n",
        "\n",
        "    \n",
        "\n",
        "print(\"--- %s seconds ---\" % (time.time() - start_time))\n",
        "\n",
        "df_sample.head()\n",
        "#df_sample.info()\n",
        "     "
      ],
      "metadata": {
        "colab": {
          "base_uri": "https://localhost:8080/",
          "height": 374
        },
        "id": "uT43aBTA7Tqi",
        "outputId": "caf7dfaf-4477-48d1-a019-9d990da55710"
      },
      "execution_count": 35,
      "outputs": [
        {
          "output_type": "stream",
          "name": "stdout",
          "text": [
            "--- 0.011279582977294922 seconds ---\n"
          ]
        },
        {
          "output_type": "execute_result",
          "data": {
            "text/plain": [
              "      killed_by       killer_name  killer_placement  killer_position_x  \\\n",
              "0       Grenade   KrazyPortuguese               5.0          657725.10   \n",
              "1        SCAR-L  nide2Bxiaojiejie              31.0           93091.37   \n",
              "2          S686          Ascholes              43.0          366921.40   \n",
              "3  Down and Out        Weirdo7777               9.0          472014.20   \n",
              "4          M416         Solayuki1               9.0          473357.80   \n",
              "\n",
              "   killer_position_y      map  \\\n",
              "0           146275.2  MIRAMAR   \n",
              "1           722236.4  MIRAMAR   \n",
              "2           421623.9  MIRAMAR   \n",
              "3           313274.8  MIRAMAR   \n",
              "4           318340.5  MIRAMAR   \n",
              "\n",
              "                                            match_id  time      victim_name  \\\n",
              "0  2U4GBNA0YmnLSqvEycnTjo-KT000vfUnhSA2vfVhVPe1QB...   823  KrazyPortuguese   \n",
              "1  2U4GBNA0YmnLSqvEycnTjo-KT000vfUnhSA2vfVhVPe1QB...   194      X3evolution   \n",
              "2  2U4GBNA0YmnLSqvEycnTjo-KT000vfUnhSA2vfVhVPe1QB...   103          CtrlZee   \n",
              "3  2U4GBNA0YmnLSqvEycnTjo-KT000vfUnhSA2vfVhVPe1QB...  1018        BlackDpre   \n",
              "4  2U4GBNA0YmnLSqvEycnTjo-KT000vfUnhSA2vfVhVPe1QB...  1018            Vjolt   \n",
              "\n",
              "   victim_placement  victim_position_x  victim_position_y  \n",
              "0               5.0          657725.10           146275.2  \n",
              "1              33.0           92238.68           723375.1  \n",
              "2              46.0          367304.50           421216.1  \n",
              "3              13.0          476645.90           316758.4  \n",
              "4              13.0          473588.50           318418.8  "
            ],
            "text/html": [
              "\n",
              "  <div id=\"df-9cbb28ea-fc70-47d8-8a1e-bdb31cf47bba\">\n",
              "    <div class=\"colab-df-container\">\n",
              "      <div>\n",
              "<style scoped>\n",
              "    .dataframe tbody tr th:only-of-type {\n",
              "        vertical-align: middle;\n",
              "    }\n",
              "\n",
              "    .dataframe tbody tr th {\n",
              "        vertical-align: top;\n",
              "    }\n",
              "\n",
              "    .dataframe thead th {\n",
              "        text-align: right;\n",
              "    }\n",
              "</style>\n",
              "<table border=\"1\" class=\"dataframe\">\n",
              "  <thead>\n",
              "    <tr style=\"text-align: right;\">\n",
              "      <th></th>\n",
              "      <th>killed_by</th>\n",
              "      <th>killer_name</th>\n",
              "      <th>killer_placement</th>\n",
              "      <th>killer_position_x</th>\n",
              "      <th>killer_position_y</th>\n",
              "      <th>map</th>\n",
              "      <th>match_id</th>\n",
              "      <th>time</th>\n",
              "      <th>victim_name</th>\n",
              "      <th>victim_placement</th>\n",
              "      <th>victim_position_x</th>\n",
              "      <th>victim_position_y</th>\n",
              "    </tr>\n",
              "  </thead>\n",
              "  <tbody>\n",
              "    <tr>\n",
              "      <th>0</th>\n",
              "      <td>Grenade</td>\n",
              "      <td>KrazyPortuguese</td>\n",
              "      <td>5.0</td>\n",
              "      <td>657725.10</td>\n",
              "      <td>146275.2</td>\n",
              "      <td>MIRAMAR</td>\n",
              "      <td>2U4GBNA0YmnLSqvEycnTjo-KT000vfUnhSA2vfVhVPe1QB...</td>\n",
              "      <td>823</td>\n",
              "      <td>KrazyPortuguese</td>\n",
              "      <td>5.0</td>\n",
              "      <td>657725.10</td>\n",
              "      <td>146275.2</td>\n",
              "    </tr>\n",
              "    <tr>\n",
              "      <th>1</th>\n",
              "      <td>SCAR-L</td>\n",
              "      <td>nide2Bxiaojiejie</td>\n",
              "      <td>31.0</td>\n",
              "      <td>93091.37</td>\n",
              "      <td>722236.4</td>\n",
              "      <td>MIRAMAR</td>\n",
              "      <td>2U4GBNA0YmnLSqvEycnTjo-KT000vfUnhSA2vfVhVPe1QB...</td>\n",
              "      <td>194</td>\n",
              "      <td>X3evolution</td>\n",
              "      <td>33.0</td>\n",
              "      <td>92238.68</td>\n",
              "      <td>723375.1</td>\n",
              "    </tr>\n",
              "    <tr>\n",
              "      <th>2</th>\n",
              "      <td>S686</td>\n",
              "      <td>Ascholes</td>\n",
              "      <td>43.0</td>\n",
              "      <td>366921.40</td>\n",
              "      <td>421623.9</td>\n",
              "      <td>MIRAMAR</td>\n",
              "      <td>2U4GBNA0YmnLSqvEycnTjo-KT000vfUnhSA2vfVhVPe1QB...</td>\n",
              "      <td>103</td>\n",
              "      <td>CtrlZee</td>\n",
              "      <td>46.0</td>\n",
              "      <td>367304.50</td>\n",
              "      <td>421216.1</td>\n",
              "    </tr>\n",
              "    <tr>\n",
              "      <th>3</th>\n",
              "      <td>Down and Out</td>\n",
              "      <td>Weirdo7777</td>\n",
              "      <td>9.0</td>\n",
              "      <td>472014.20</td>\n",
              "      <td>313274.8</td>\n",
              "      <td>MIRAMAR</td>\n",
              "      <td>2U4GBNA0YmnLSqvEycnTjo-KT000vfUnhSA2vfVhVPe1QB...</td>\n",
              "      <td>1018</td>\n",
              "      <td>BlackDpre</td>\n",
              "      <td>13.0</td>\n",
              "      <td>476645.90</td>\n",
              "      <td>316758.4</td>\n",
              "    </tr>\n",
              "    <tr>\n",
              "      <th>4</th>\n",
              "      <td>M416</td>\n",
              "      <td>Solayuki1</td>\n",
              "      <td>9.0</td>\n",
              "      <td>473357.80</td>\n",
              "      <td>318340.5</td>\n",
              "      <td>MIRAMAR</td>\n",
              "      <td>2U4GBNA0YmnLSqvEycnTjo-KT000vfUnhSA2vfVhVPe1QB...</td>\n",
              "      <td>1018</td>\n",
              "      <td>Vjolt</td>\n",
              "      <td>13.0</td>\n",
              "      <td>473588.50</td>\n",
              "      <td>318418.8</td>\n",
              "    </tr>\n",
              "  </tbody>\n",
              "</table>\n",
              "</div>\n",
              "      <button class=\"colab-df-convert\" onclick=\"convertToInteractive('df-9cbb28ea-fc70-47d8-8a1e-bdb31cf47bba')\"\n",
              "              title=\"Convert this dataframe to an interactive table.\"\n",
              "              style=\"display:none;\">\n",
              "        \n",
              "  <svg xmlns=\"http://www.w3.org/2000/svg\" height=\"24px\"viewBox=\"0 0 24 24\"\n",
              "       width=\"24px\">\n",
              "    <path d=\"M0 0h24v24H0V0z\" fill=\"none\"/>\n",
              "    <path d=\"M18.56 5.44l.94 2.06.94-2.06 2.06-.94-2.06-.94-.94-2.06-.94 2.06-2.06.94zm-11 1L8.5 8.5l.94-2.06 2.06-.94-2.06-.94L8.5 2.5l-.94 2.06-2.06.94zm10 10l.94 2.06.94-2.06 2.06-.94-2.06-.94-.94-2.06-.94 2.06-2.06.94z\"/><path d=\"M17.41 7.96l-1.37-1.37c-.4-.4-.92-.59-1.43-.59-.52 0-1.04.2-1.43.59L10.3 9.45l-7.72 7.72c-.78.78-.78 2.05 0 2.83L4 21.41c.39.39.9.59 1.41.59.51 0 1.02-.2 1.41-.59l7.78-7.78 2.81-2.81c.8-.78.8-2.07 0-2.86zM5.41 20L4 18.59l7.72-7.72 1.47 1.35L5.41 20z\"/>\n",
              "  </svg>\n",
              "      </button>\n",
              "      \n",
              "  <style>\n",
              "    .colab-df-container {\n",
              "      display:flex;\n",
              "      flex-wrap:wrap;\n",
              "      gap: 12px;\n",
              "    }\n",
              "\n",
              "    .colab-df-convert {\n",
              "      background-color: #E8F0FE;\n",
              "      border: none;\n",
              "      border-radius: 50%;\n",
              "      cursor: pointer;\n",
              "      display: none;\n",
              "      fill: #1967D2;\n",
              "      height: 32px;\n",
              "      padding: 0 0 0 0;\n",
              "      width: 32px;\n",
              "    }\n",
              "\n",
              "    .colab-df-convert:hover {\n",
              "      background-color: #E2EBFA;\n",
              "      box-shadow: 0px 1px 2px rgba(60, 64, 67, 0.3), 0px 1px 3px 1px rgba(60, 64, 67, 0.15);\n",
              "      fill: #174EA6;\n",
              "    }\n",
              "\n",
              "    [theme=dark] .colab-df-convert {\n",
              "      background-color: #3B4455;\n",
              "      fill: #D2E3FC;\n",
              "    }\n",
              "\n",
              "    [theme=dark] .colab-df-convert:hover {\n",
              "      background-color: #434B5C;\n",
              "      box-shadow: 0px 1px 3px 1px rgba(0, 0, 0, 0.15);\n",
              "      filter: drop-shadow(0px 1px 2px rgba(0, 0, 0, 0.3));\n",
              "      fill: #FFFFFF;\n",
              "    }\n",
              "  </style>\n",
              "\n",
              "      <script>\n",
              "        const buttonEl =\n",
              "          document.querySelector('#df-9cbb28ea-fc70-47d8-8a1e-bdb31cf47bba button.colab-df-convert');\n",
              "        buttonEl.style.display =\n",
              "          google.colab.kernel.accessAllowed ? 'block' : 'none';\n",
              "\n",
              "        async function convertToInteractive(key) {\n",
              "          const element = document.querySelector('#df-9cbb28ea-fc70-47d8-8a1e-bdb31cf47bba');\n",
              "          const dataTable =\n",
              "            await google.colab.kernel.invokeFunction('convertToInteractive',\n",
              "                                                     [key], {});\n",
              "          if (!dataTable) return;\n",
              "\n",
              "          const docLinkHtml = 'Like what you see? Visit the ' +\n",
              "            '<a target=\"_blank\" href=https://colab.research.google.com/notebooks/data_table.ipynb>data table notebook</a>'\n",
              "            + ' to learn more about interactive tables.';\n",
              "          element.innerHTML = '';\n",
              "          dataTable['output_type'] = 'display_data';\n",
              "          await google.colab.output.renderOutput(dataTable, element);\n",
              "          const docLink = document.createElement('div');\n",
              "          docLink.innerHTML = docLinkHtml;\n",
              "          element.appendChild(docLink);\n",
              "        }\n",
              "      </script>\n",
              "    </div>\n",
              "  </div>\n",
              "  "
            ]
          },
          "metadata": {},
          "execution_count": 35
        }
      ]
    },
    {
      "cell_type": "markdown",
      "source": [
        "**File Pipeline**"
      ],
      "metadata": {
        "id": "it71ZTFn-FCC"
      }
    },
    {
      "cell_type": "code",
      "source": [
        "import codecs as codec\n",
        "import data_sample\n",
        "data_sample.to_csv(r'/content/kill_match_stats_final_0.csv', sep = '|', index=False) \n",
        "\n",
        "data_sample.info()\n",
        "data_sample.describe()\n",
        "data_sample.shape\n",
        "\n",
        "#write dataframe df to the outputfile with pipe delimited\n",
        "\n",
        "import gzip\n",
        "import csv\n",
        "\n",
        "f=gzip.open(\"/content/kill_match_stats_final_0.csv\", \"wt\")\n",
        "to_write =  open('/content/kill_match_stats_final_0.csv', 'rt') \n",
        "\n",
        "csv_w=csv.writer(f)\n",
        "\n",
        "\n",
        "\n",
        "for row in to_write :\n",
        "    csv_w.writerow(codec.encode(row))\n",
        "f.close()\n",
        "to_write.close()"
      ],
      "metadata": {
        "colab": {
          "base_uri": "https://localhost:8080/",
          "height": 373
        },
        "id": "An5g85DJ-Lsm",
        "outputId": "0d6906ee-3dd5-4cdf-a541-be0cbf2c86c2"
      },
      "execution_count": 12,
      "outputs": [
        {
          "output_type": "error",
          "ename": "ModuleNotFoundError",
          "evalue": "ignored",
          "traceback": [
            "\u001b[0;31m---------------------------------------------------------------------------\u001b[0m",
            "\u001b[0;31mModuleNotFoundError\u001b[0m                       Traceback (most recent call last)",
            "\u001b[0;32m<ipython-input-12-b9559afb88d7>\u001b[0m in \u001b[0;36m<module>\u001b[0;34m\u001b[0m\n\u001b[1;32m      1\u001b[0m \u001b[0;32mimport\u001b[0m \u001b[0mcodecs\u001b[0m \u001b[0;32mas\u001b[0m \u001b[0mcodec\u001b[0m\u001b[0;34m\u001b[0m\u001b[0;34m\u001b[0m\u001b[0m\n\u001b[0;32m----> 2\u001b[0;31m \u001b[0;32mimport\u001b[0m \u001b[0mdata_sample\u001b[0m\u001b[0;34m\u001b[0m\u001b[0;34m\u001b[0m\u001b[0m\n\u001b[0m\u001b[1;32m      3\u001b[0m \u001b[0mdata_sample\u001b[0m\u001b[0;34m.\u001b[0m\u001b[0mto_csv\u001b[0m\u001b[0;34m(\u001b[0m\u001b[0;34mr'/content/kill_match_stats_final_0.csv'\u001b[0m\u001b[0;34m,\u001b[0m \u001b[0msep\u001b[0m \u001b[0;34m=\u001b[0m \u001b[0;34m'|'\u001b[0m\u001b[0;34m,\u001b[0m \u001b[0mindex\u001b[0m\u001b[0;34m=\u001b[0m\u001b[0;32mFalse\u001b[0m\u001b[0;34m)\u001b[0m\u001b[0;34m\u001b[0m\u001b[0;34m\u001b[0m\u001b[0m\n\u001b[1;32m      4\u001b[0m \u001b[0;34m\u001b[0m\u001b[0m\n\u001b[1;32m      5\u001b[0m \u001b[0mdata_sample\u001b[0m\u001b[0;34m.\u001b[0m\u001b[0minfo\u001b[0m\u001b[0;34m(\u001b[0m\u001b[0;34m)\u001b[0m\u001b[0;34m\u001b[0m\u001b[0;34m\u001b[0m\u001b[0m\n",
            "\u001b[0;31mModuleNotFoundError\u001b[0m: No module named 'data_sample'",
            "",
            "\u001b[0;31m---------------------------------------------------------------------------\u001b[0;32m\nNOTE: If your import is failing due to a missing package, you can\nmanually install dependencies using either !pip or !apt.\n\nTo view examples of installing some common dependencies, click the\n\"Open Examples\" button below.\n\u001b[0;31m---------------------------------------------------------------------------\u001b[0m\n"
          ],
          "errorDetails": {
            "actions": [
              {
                "action": "open_url",
                "actionText": "Open Examples",
                "url": "/notebooks/snippets/importing_libraries.ipynb"
              }
            ]
          }
        }
      ]
    }
  ]
}